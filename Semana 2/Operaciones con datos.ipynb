{
  "cells": [
    {
      "cell_type": "markdown",
      "metadata": {
        "id": "hgvATP84BPYB"
      },
      "source": [
        "# Operaciones con datos en Python\n",
        "\n",
        "## ¿Qué es un operador?\n",
        "\n",
        "Los operadores son símbolos especiales en Python que realizan cálculos aritméticos o lógicos. Al valor sobre el que actúa el operador se le llama operando. Por ejemplo:"
      ]
    },
    {
      "cell_type": "code",
      "source": [
        "import networkx as nx\n",
        "import numpy as np\n",
        "import tensorflow as tf\n",
        "from tensorflow import keras\n",
        "from tensorflow.keras import layers\n",
        "\n",
        "class TransporteMasivoIA:\n",
        "    def __init__(self):\n",
        "        self.grafo = nx.DiGraph()\n",
        "        self.estaciones_concurridas = set()\n",
        "        self.estaciones_mantenimiento = set()\n",
        "        self.model = self.crear_modelo()\n",
        "\n",
        "    def agregar_estacion(self, nombre):\n",
        "        self.grafo.add_node(nombre)\n",
        "\n",
        "    def agregar_conexion(self, origen, destino, tiempo, concurrencia=0, transbordo=False):\n",
        "        self.grafo.add_edge(origen, destino, tiempo=tiempo, concurrencia=concurrencia, transbordo=transbordo)\n",
        "\n",
        "    def definir_estaciones_concurridas(self, estaciones):\n",
        "        self.estaciones_concurridas.update(estaciones)\n",
        "\n",
        "    def definir_estaciones_mantenimiento(self, estaciones):\n",
        "        self.estaciones_mantenimiento.update(estaciones)\n",
        "\n",
        "    def crear_modelo(self):\n",
        "        model = keras.Sequential([\n",
        "            layers.Dense(64, activation='relu', input_shape=(3,)),\n",
        "            layers.Dense(64, activation='relu'),\n",
        "            layers.Dense(1, activation='linear')\n",
        "        ])\n",
        "        model.compile(optimizer='adam', loss='mse')\n",
        "        return model\n",
        "\n",
        "    def entrenar_modelo(self, datos, etiquetas):\n",
        "        datos_np = np.array(datos)\n",
        "        etiquetas_np = np.array(etiquetas)\n",
        "        self.model.fit(datos_np, etiquetas_np, epochs=100, verbose=0)\n",
        "\n",
        "    def predecir_ruta(self, tiempo, concurrencia, transbordos):\n",
        "        entrada = np.array([[tiempo, concurrencia, transbordos]])\n",
        "        return self.model.predict(entrada)[0][0]\n",
        "\n",
        "    def encontrar_ruta(self, origen, destino, preferencia):\n",
        "        try:\n",
        "            rutas = list(nx.all_simple_paths(self.grafo, origen, destino))\n",
        "            mejor_ruta = None\n",
        "            mejor_puntaje = float('inf')\n",
        "\n",
        "            for ruta in rutas:\n",
        "                tiempo_total = sum(self.grafo[u][v]['tiempo'] for u, v in zip(ruta, ruta[1:]))\n",
        "                concurrencia_total = sum(self.grafo[u][v]['concurrencia'] for u, v in zip(ruta, ruta[1:]))\n",
        "                transbordos_total = sum(1 for u, v in zip(ruta, ruta[1:]) if self.grafo[u][v]['transbordo'])\n",
        "\n",
        "                # Ajuste de criterios según la preferencia del usuario\n",
        "                if preferencia == \"rapidez\":\n",
        "                    puntaje = tiempo_total\n",
        "                elif preferencia == \"menos_transbordos\":\n",
        "                    puntaje = transbordos_total\n",
        "                elif preferencia == \"menos_concurrida\":\n",
        "                    puntaje = concurrencia_total\n",
        "                elif preferencia == \"evitar_mantenimiento\":\n",
        "                    if any(est in self.estaciones_mantenimiento for est in ruta):\n",
        "                        continue\n",
        "                    puntaje = self.predecir_ruta(tiempo_total, concurrencia_total, transbordos_total)\n",
        "                else:\n",
        "                    puntaje = self.predecir_ruta(tiempo_total, concurrencia_total, transbordos_total)\n",
        "\n",
        "                # Selección de la mejor ruta\n",
        "                if puntaje < mejor_puntaje:\n",
        "                    mejor_puntaje = puntaje\n",
        "                    mejor_ruta = ruta\n",
        "\n",
        "            return mejor_ruta if mejor_ruta else \"No hay ruta disponible\"\n",
        "        except nx.NetworkXNoPath:\n",
        "            return \"No hay ruta disponible\"\n",
        "        except nx.NodeNotFound:\n",
        "            return \"Estación no encontrada\"\n",
        "\n",
        "# Creación del sistema de transporte\n",
        "transporte = TransporteMasivoIA()\n",
        "\n",
        "# Agregar estaciones\n",
        "estaciones = [\"A\", \"B\", \"C\", \"D\", \"E\", \"F\", \"G\"]\n",
        "for estacion in estaciones:\n",
        "    transporte.agregar_estacion(estacion)\n",
        "\n",
        "# Agregar conexiones entre estaciones\n",
        "conexiones = [\n",
        "    (\"A\", \"B\", 5, 10, False),\n",
        "    (\"B\", \"C\", 7, 20, True),\n",
        "    (\"C\", \"D\", 6, 5, False),\n",
        "    (\"D\", \"E\", 8, 15, True),\n",
        "    (\"E\", \"F\", 4, 30, False),\n",
        "    (\"F\", \"G\", 3, 25, False)\n",
        "]\n",
        "for conexion in conexiones:\n",
        "    transporte.agregar_conexion(*conexion)\n",
        "\n",
        "# Definir estaciones concurridas y en mantenimiento\n",
        "transporte.definir_estaciones_concurridas([\"C\", \"E\"])\n",
        "transporte.definir_estaciones_mantenimiento([\"D\"])\n",
        "\n",
        "# Simulación de datos de entrenamiento para la IA\n",
        "datos_entrenamiento = [\n",
        "    [5, 10, 0], [7, 20, 1], [6, 5, 0], [8, 15, 1], [4, 30, 0], [3, 25, 0]\n",
        "]\n",
        "etiquetas = [5, 7, 6, 8, 4, 3]  # Tiempos de llegada ideales según histórico\n",
        "transporte.entrenar_modelo(datos_entrenamiento, etiquetas)\n",
        "\n",
        "# Definir preferencias de los usuarios\n",
        "usuarios = {\n",
        "    \"Viviana\": \"rapidez\",\n",
        "    \"Diana\": \"menos_transbordos\",\n",
        "    \"Andrea\": \"menos_concurrida\",\n",
        "    \"Mauricio\": \"evitar_mantenimiento\"\n",
        "}\n",
        "\n",
        "# Pedir al usuario su nombre\n",
        "while True:\n",
        "    nombre_usuario = input(\"Ingrese su nombre (Viviana, Diana, Andrea, Mauricio): \").strip()\n",
        "\n",
        "    if nombre_usuario in usuarios:\n",
        "        preferencia = usuarios[nombre_usuario]\n",
        "        ruta = transporte.encontrar_ruta(\"A\", \"G\", preferencia)\n",
        "        print(f\"Ruta óptima para {nombre_usuario} ({preferencia}): {ruta}\")\n",
        "        break\n",
        "    else:\n",
        "        print(\"Nombre no válido. Intente de nuevo.\")\n"
      ],
      "metadata": {
        "colab": {
          "base_uri": "https://localhost:8080/"
        },
        "id": "J8IucKsaG1D-",
        "outputId": "2cae3e8a-657f-4b61-a2ae-1d63bf744977"
      },
      "execution_count": 1,
      "outputs": [
        {
          "output_type": "stream",
          "name": "stderr",
          "text": [
            "Exception ignored in: <function _xla_gc_callback at 0x7b0fdc60d800>\n",
            "Traceback (most recent call last):\n",
            "  File \"/usr/local/lib/python3.11/dist-packages/jax/_src/lib/__init__.py\", line 96, in _xla_gc_callback\n",
            "    def _xla_gc_callback(*args):\n",
            "    \n",
            "KeyboardInterrupt: \n",
            "/usr/local/lib/python3.11/dist-packages/keras/src/layers/core/dense.py:87: UserWarning: Do not pass an `input_shape`/`input_dim` argument to a layer. When using Sequential models, prefer using an `Input(shape)` object as the first layer in the model instead.\n",
            "  super().__init__(activity_regularizer=activity_regularizer, **kwargs)\n"
          ]
        },
        {
          "output_type": "stream",
          "name": "stdout",
          "text": [
            "Ingrese su nombre (Viviana, Diana, Andrea, Mauricio): Diana\n",
            "Ruta óptima para Diana (menos_transbordos): ['A', 'B', 'C', 'D', 'E', 'F', 'G']\n"
          ]
        }
      ]
    },
    {
      "cell_type": "code",
      "source": [
        "import networkx as nx\n",
        "import numpy as np\n",
        "import tensorflow as tf\n",
        "from tensorflow import keras\n",
        "from tensorflow.keras import layers\n",
        "\n",
        "class TransporteMasivoIA:\n",
        "    def __init__(self):\n",
        "        self.grafo = nx.DiGraph()\n",
        "        self.estaciones_concurridas = set()\n",
        "        self.estaciones_mantenimiento = set()\n",
        "        self.model = self.crear_modelo()\n",
        "\n",
        "    def agregar_estacion(self, nombre):\n",
        "        self.grafo.add_node(nombre)\n",
        "\n",
        "    def agregar_conexion(self, origen, destino, tiempo, concurrencia=0, transbordo=False):\n",
        "        self.grafo.add_edge(origen, destino, tiempo=tiempo, concurrencia=concurrencia, transbordo=transbordo)\n",
        "\n",
        "    def definir_estaciones_concurridas(self, estaciones):\n",
        "        self.estaciones_concurridas.update(estaciones)\n",
        "\n",
        "    def definir_estaciones_mantenimiento(self, estaciones):\n",
        "        self.estaciones_mantenimiento.update(estaciones)\n",
        "\n",
        "    def crear_modelo(self):\n",
        "        model = keras.Sequential([\n",
        "            layers.Dense(64, activation='relu', input_shape=(3,)),\n",
        "            layers.Dense(64, activation='relu'),\n",
        "            layers.Dense(1, activation='linear')\n",
        "        ])\n",
        "        model.compile(optimizer='adam', loss='mse')\n",
        "        return model\n",
        "\n",
        "    def entrenar_modelo(self, datos, etiquetas):\n",
        "        datos_np = np.array(datos)\n",
        "        etiquetas_np = np.array(etiquetas)\n",
        "        self.model.fit(datos_np, etiquetas_np, epochs=100, verbose=0)\n",
        "\n",
        "    def predecir_ruta(self, tiempo, concurrencia, transbordos):\n",
        "        entrada = np.array([[tiempo, concurrencia, transbordos]])\n",
        "        return self.model.predict(entrada)[0][0]\n",
        "\n",
        "    def encontrar_mejores_rutas(self, origen, destino, preferencia, max_rutas=3):\n",
        "        try:\n",
        "            rutas = list(nx.all_simple_paths(self.grafo, origen, destino))\n",
        "            rutas_puntuadas = []\n",
        "\n",
        "            for ruta in rutas:\n",
        "                tiempo_total = sum(self.grafo[u][v]['tiempo'] for u, v in zip(ruta, ruta[1:]))\n",
        "                concurrencia_total = sum(self.grafo[u][v]['concurrencia'] for u, v in zip(ruta, ruta[1:]))\n",
        "                transbordos_total = sum(1 for u, v in zip(ruta, ruta[1:]) if self.grafo[u][v]['transbordo'])\n",
        "\n",
        "                # Ajuste de criterios según la preferencia del usuario\n",
        "                if preferencia == \"rapidez\":\n",
        "                    puntaje = tiempo_total\n",
        "                elif preferencia == \"menos_transbordos\":\n",
        "                    puntaje = transbordos_total\n",
        "                elif preferencia == \"menos_concurrida\":\n",
        "                    puntaje = concurrencia_total\n",
        "                elif preferencia == \"evitar_mantenimiento\":\n",
        "                    if any(est in self.estaciones_mantenimiento for est in ruta):\n",
        "                        continue\n",
        "                    puntaje = self.predecir_ruta(tiempo_total, concurrencia_total, transbordos_total)\n",
        "                else:\n",
        "                    puntaje = self.predecir_ruta(tiempo_total, concurrencia_total, transbordos_total)\n",
        "\n",
        "                rutas_puntuadas.append((ruta, puntaje))\n",
        "\n",
        "            # Ordenar las rutas por el puntaje\n",
        "            rutas_puntuadas.sort(key=lambda x: x[1])\n",
        "\n",
        "            # Seleccionar las mejores rutas (máximo 3)\n",
        "            mejores_rutas = [ruta for ruta, _ in rutas_puntuadas[:max_rutas]]\n",
        "            return mejores_rutas if mejores_rutas else [\"No hay rutas disponibles\"]\n",
        "        except nx.NetworkXNoPath:\n",
        "            return [\"No hay rutas disponibles\"]\n",
        "        except nx.NodeNotFound:\n",
        "            return [\"Estación no encontrada\"]\n",
        "\n",
        "# Creación del sistema de transporte\n",
        "transporte = TransporteMasivoIA()\n",
        "\n",
        "# Agregar estaciones\n",
        "estaciones = [\"A\", \"B\", \"C\", \"D\", \"E\", \"F\", \"G\"]\n",
        "for estacion in estaciones:\n",
        "    transporte.agregar_estacion(estacion)\n",
        "\n",
        "# Agregar conexiones entre estaciones\n",
        "conexiones = [\n",
        "    (\"A\", \"B\", 5, 10, False),\n",
        "    (\"B\", \"C\", 7, 20, True),\n",
        "    (\"C\", \"D\", 6, 5, False),\n",
        "    (\"D\", \"E\", 8, 15, True),\n",
        "    (\"E\", \"F\", 4, 30, False),\n",
        "    (\"F\", \"G\", 3, 25, False),\n",
        "    (\"A\", \"C\", 10, 15, False),\n",
        "    (\"B\", \"D\", 8, 12, True),\n",
        "    (\"C\", \"E\", 9, 18, True),\n",
        "    (\"D\", \"F\", 7, 22, False)\n",
        "]\n",
        "for conexion in conexiones:\n",
        "    transporte.agregar_conexion(*conexion)\n",
        "\n",
        "# Definir estaciones concurridas y en mantenimiento\n",
        "transporte.definir_estaciones_concurridas([\"C\", \"E\"])\n",
        "transporte.definir_estaciones_mantenimiento([\"D\"])\n",
        "\n",
        "# Simulación de datos de entrenamiento para la IA\n",
        "datos_entrenamiento = [\n",
        "    [5, 10, 0], [7, 20, 1], [6, 5, 0], [8, 15, 1], [4, 30, 0], [3, 25, 0]\n",
        "]\n",
        "etiquetas = [5, 7, 6, 8, 4, 3]  # Tiempos de llegada ideales según histórico\n",
        "transporte.entrenar_modelo(datos_entrenamiento, etiquetas)\n",
        "\n",
        "# Definir preferencias de los usuarios\n",
        "usuarios = {\n",
        "    \"Viviana\": \"rapidez\",\n",
        "    \"Diana\": \"menos_transbordos\",\n",
        "    \"Andrea\": \"menos_concurrida\",\n",
        "    \"Mauricio\": \"evitar_mantenimiento\"\n",
        "}\n",
        "\n",
        "# Pedir al usuario su nombre\n",
        "while True:\n",
        "    nombre_usuario = input(\"Ingrese su nombre (Viviana, Diana, Andrea, Mauricio): \").strip()\n",
        "\n",
        "    if nombre_usuario in usuarios:\n",
        "        preferencia = usuarios[nombre_usuario]\n",
        "        rutas = transporte.encontrar_mejores_rutas(\"A\", \"G\", preferencia, max_rutas=3)\n",
        "\n",
        "        print(f\"\\nRutas óptimas para {nombre_usuario} ({preferencia}):\")\n",
        "        for i, ruta in enumerate(rutas, 1):\n",
        "            print(f\"Ruta {i}: {ruta}\")\n",
        "        break\n",
        "    else:\n",
        "        print(\"Nombre no válido. Intente de nuevo.\")\n"
      ],
      "metadata": {
        "colab": {
          "base_uri": "https://localhost:8080/"
        },
        "id": "QACQjVZ3Hx3m",
        "outputId": "8cf28505-d7b4-46c5-98c3-952159b4948b"
      },
      "execution_count": 2,
      "outputs": [
        {
          "output_type": "stream",
          "name": "stdout",
          "text": [
            "Ingrese su nombre (Viviana, Diana, Andrea, Mauricio): Diana\n",
            "\n",
            "Rutas óptimas para Diana (menos_transbordos):\n",
            "Ruta 1: ['A', 'C', 'D', 'F', 'G']\n",
            "Ruta 2: ['A', 'B', 'C', 'D', 'F', 'G']\n",
            "Ruta 3: ['A', 'B', 'D', 'F', 'G']\n"
          ]
        }
      ]
    },
    {
      "cell_type": "code",
      "execution_count": null,
      "metadata": {
        "id": "N3EZeV93BPYJ",
        "outputId": "d0fa8f48-c014-43bf-d823-455efa331379"
      },
      "outputs": [
        {
          "name": "stdout",
          "output_type": "stream",
          "text": [
            "7\n"
          ]
        }
      ],
      "source": [
        "print(2 + 5)"
      ]
    },
    {
      "cell_type": "markdown",
      "metadata": {
        "id": "MRLQkvNeBPYQ"
      },
      "source": [
        "Aquí, `+` es el operador que realiza la suma. `2` y `5` son los operandos y `7` es el resultado de la operación. Ahora veamos con qué operadores contamos en cada tipo de datos:\n",
        "\n",
        "## Operadores aritméticos\n",
        "\n",
        "Los operadores aritméticos se utilizan para realizar operaciones matemáticas como sumas, restas, multiplicaciones, etc. Estos son compatibles con cualquier tipo de dato numérico, enteros, flotantes o complejos. En la siguiente tabla veremos los principales operadores aritméticos que tiene python:\n",
        "\n",
        "| Operador | Descripción   | Ejemplo |\n",
        "|------|------|------|\n",
        "|+ |Suma |` r = 3 + 2`  |\n",
        "|- |Resta |` r = 4 - 7 ` |\n",
        "|- |Negación |` r = -7`  |\n",
        "|* |Multiplicación |` r = 2 * 6`  |\n",
        "|** |Exponente |` r = 2 ** 6`  |\n",
        "|/ |División|`  r = 3.5 / 2`  |\n",
        "|// |División entera|`  r = 3.5 // 2`  |\n",
        "|% |Módulo |` r = 7 % 2 ` |\n",
        "\n",
        "Si bien la suma, resta, multiplicación y las potencias tienen el comportamiento que hemos aprendido desde las matemáticas, como vemos, python tiene 3 operaciones relacionadas con la división, ahora, vamos a ver un ejemplo de uso de todas las operaciones y entrarémos en detalle del comportamiento de estas últimas tres operaciones.\n"
      ]
    },
    {
      "cell_type": "markdown",
      "metadata": {
        "id": "P6lcVWQpBPYT"
      },
      "source": [
        "\n",
        "### Suma\n",
        "Ejecuta el siguiente bloque de código insertando diferentes tipos de número:"
      ]
    },
    {
      "cell_type": "code",
      "execution_count": null,
      "metadata": {
        "colab": {
          "base_uri": "https://localhost:8080/"
        },
        "id": "b9Dl-HGwBPYV",
        "outputId": "33bd7c72-9943-4c8d-fd27-f73557c6037e"
      },
      "outputs": [
        {
          "output_type": "stream",
          "name": "stdout",
          "text": [
            "digita un número412\n",
            "digita otro número35\n",
            "la suma es: 447\n"
          ]
        }
      ],
      "source": [
        "a = eval(input(\"digita un número\"))\n",
        "b = eval(input(\"digita otro número\"))\n",
        "print(\"la suma es:\", a + b)"
      ]
    },
    {
      "cell_type": "markdown",
      "metadata": {
        "id": "ArSyhW1ZBPYZ"
      },
      "source": [
        "### Resta\n",
        "Ejecuta el siguiente bloque de código insertando diferentes tipos de número:"
      ]
    },
    {
      "cell_type": "code",
      "execution_count": null,
      "metadata": {
        "id": "qfQooFcuBPYa",
        "outputId": "9e22b497-20ce-41d3-b568-180c22437297"
      },
      "outputs": [
        {
          "name": "stdin",
          "output_type": "stream",
          "text": [
            "digita un número 845\n",
            "digita otro número 165\n"
          ]
        },
        {
          "name": "stdout",
          "output_type": "stream",
          "text": [
            "la resta es: 680\n"
          ]
        }
      ],
      "source": [
        "a = eval(input(\"digita un número\"))\n",
        "b = eval(input(\"digita otro número\"))\n",
        "print(\"la resta es:\", a - b)"
      ]
    },
    {
      "cell_type": "markdown",
      "metadata": {
        "id": "Tv1NekcoBPYd"
      },
      "source": [
        "### Multiplicación\n",
        "Ejecuta el siguiente bloque de código insertando diferentes tipos de número:"
      ]
    },
    {
      "cell_type": "code",
      "execution_count": null,
      "metadata": {
        "id": "hIYfxeCXBPYf",
        "outputId": "c4fe0075-7847-4174-db9b-6c9654853863"
      },
      "outputs": [
        {
          "name": "stdin",
          "output_type": "stream",
          "text": [
            "digita un número 658\n",
            "digita otro número 3.14\n"
          ]
        },
        {
          "name": "stdout",
          "output_type": "stream",
          "text": [
            "la multiplicación es: 2066.12\n"
          ]
        }
      ],
      "source": [
        "a = eval(input(\"digita un número\"))\n",
        "b = eval(input(\"digita otro número\"))\n",
        "print(\"la multiplicación es:\", a * b)"
      ]
    },
    {
      "cell_type": "markdown",
      "metadata": {
        "id": "aqv0LLcYBPYi"
      },
      "source": [
        "### Potenciación\n",
        "Ejecuta el siguiente bloque de código insertando diferentes tipos de número:"
      ]
    },
    {
      "cell_type": "code",
      "execution_count": null,
      "metadata": {
        "id": "aodDrOcHBPYk",
        "outputId": "8d7ff2a8-e583-4cba-fe74-6624af829f3a"
      },
      "outputs": [
        {
          "name": "stdin",
          "output_type": "stream",
          "text": [
            "digita un número 2\n",
            "digita otro número 6\n"
          ]
        },
        {
          "name": "stdout",
          "output_type": "stream",
          "text": [
            "la potencia a^b es: 12\n"
          ]
        }
      ],
      "source": [
        "a = eval(input(\"digita un número\"))\n",
        "b = eval(input(\"digita otro número\"))\n",
        "print(\"la potencia a^b es:\", a ** b)"
      ]
    },
    {
      "cell_type": "markdown",
      "metadata": {
        "id": "jbQlzQjwBPYl"
      },
      "source": [
        "### División\n",
        "<br>\n",
        "<br>\n",
        "<center><img src=\"https://www.jpvalencia.com/static/6be4f984ce532788d16a73f020891d92/213b2/division.png\" alt=\"división\" style=\"width:300px;\"/></center>\n",
        "<br>\n",
        "<br>\n",
        "<br>\n",
        "\n",
        "Como se mencionó anteriormente, python cuenta con 3 operaciones relacionadas con la división: la división entera, la división completa y el módulo.\n",
        "\n",
        "La **división entera** arroja el cociente de la operación, independientemente de que los números sean enteros o flotantes y este resultado ignora la parte decimal que pudiera tener el cociente. Su operador es `//`\n"
      ]
    },
    {
      "cell_type": "code",
      "execution_count": null,
      "metadata": {
        "id": "RHQzSLNKBPYn",
        "outputId": "fe2b1f60-e076-4017-a447-7e4ddea231b6"
      },
      "outputs": [
        {
          "name": "stdout",
          "output_type": "stream",
          "text": [
            "5//2:  2\n",
            "4525.214//2:  2262.0\n",
            "54874136.85//65874.6:  833.0\n"
          ]
        }
      ],
      "source": [
        "print('5//2: ', 5 // 2)\n",
        "print('4525.214//2: ', 4525.214 // 2)\n",
        "print('54874136.85//65874.6: ', 54874136.85 // 65874.6)"
      ]
    },
    {
      "cell_type": "markdown",
      "metadata": {
        "id": "VjPJdvNkBPYo"
      },
      "source": [
        "La **división completa** es la operación tradicional de la mayoría de lenguajes de programación, su cociente tiene en cuenta la fracción decimal que sea necesaria para hacer cero el residuo. Su operador es `/`"
      ]
    },
    {
      "cell_type": "code",
      "execution_count": null,
      "metadata": {
        "id": "hnuhHrzUBPYp",
        "outputId": "2b1cda75-8c2a-4d3f-9ca1-1b1a2d52a00c"
      },
      "outputs": [
        {
          "name": "stdout",
          "output_type": "stream",
          "text": [
            "5/2:  2.5\n",
            "4525.214/2:  2262.607\n",
            "54874136.85/65874.6:  833.0090330719275\n"
          ]
        }
      ],
      "source": [
        "print('5/2: ', 5 / 2)\n",
        "print('4525.214/2: ', 4525.214 / 2)\n",
        "print('54874136.85/65874.6: ', 54874136.85 / 65874.6)"
      ]
    },
    {
      "cell_type": "markdown",
      "metadata": {
        "id": "OJ80bNWnBPYq"
      },
      "source": [
        "La operación de **módulo** retorna el residuo de la división entre dos números y su operador es `%`. Si bien esta operación puede realizarse con flotantes, no es una práctica recomendada, ya que si usamos operandos flotantes obtendremos un valor de punto flotante como cociente y el resto será cero, lo que no generará una respuesta correcta.\n",
        "\n",
        "Así que si usamos operandos flotantes en el operador de módulo, siempre obtendremos la respuesta 0, pero como veremos en el ejemplo, esto no siempre ocurre en Python. Si queremos obtener la respuesta correcta de módulo debemos usar operandos enteros"
      ]
    },
    {
      "cell_type": "code",
      "execution_count": null,
      "metadata": {
        "id": "xntqVH70BPYr",
        "outputId": "a567365b-6474-4011-9893-3f7cb3f0d2c1"
      },
      "outputs": [
        {
          "name": "stdout",
          "output_type": "stream",
          "text": [
            "5%2:  1\n",
            "4525.214%2.5:  0.2139999999999418\n"
          ]
        }
      ],
      "source": [
        "print('5%2: ', 5 % 2)\n",
        "print('4525.214%2.5: ', 4525.214 % 2.5)"
      ]
    },
    {
      "cell_type": "markdown",
      "metadata": {
        "id": "5PJKrj0vBPYs"
      },
      "source": [
        "## Operadores de comparación\n",
        "Los operadores de comparación se utilizan para comparar valores. Devuelven `True` o `False` según la condición.\n",
        "\n",
        "| operador | Descripción   | Ejemplo |\n",
        "|------|------|------|\n",
        "|==|a = b|` 5 == 3` |\n",
        "|!=|  a diferente de b|  ` 5 != 3`  |\n",
        "|< | a menor que b| `  5 < 3`  |\n",
        "|> | a mayor que b| `  5 > 3`  |\n",
        "|<= | a menor o igual que b|`   5 <= 3`  |\n",
        "|>= | a mayor o igual que b|  ` 5 >= 3 ` |"
      ]
    },
    {
      "cell_type": "code",
      "execution_count": null,
      "metadata": {
        "id": "QE0UEuRRBPYt",
        "outputId": "3550490f-19cc-462b-ef98-2c824d3d70b8"
      },
      "outputs": [
        {
          "name": "stdout",
          "output_type": "stream",
          "text": [
            "x > y es False\n",
            "x < y es True\n",
            "x == y es False\n",
            "x != y es True\n",
            "x >= y es False\n",
            "x <= y es True\n"
          ]
        }
      ],
      "source": [
        "x = 69\n",
        "y = 420\n",
        "\n",
        "print('x > y es', x > y)\n",
        "print('x < y es', x < y)\n",
        "print('x == y es', x == y)\n",
        "print('x != y es', x != y)\n",
        "print('x >= y es', x >= y)\n",
        "print('x <= y es', x <= y)"
      ]
    },
    {
      "cell_type": "markdown",
      "metadata": {
        "id": "RNkCntePBPYv"
      },
      "source": [
        "## Operadores lógicos\n",
        "Permiten realizar operaciones de [álgebra booleana](https://plato.stanford.edu/entries/boolalg-math/), opera directamente sobre los valores de `True` y `False` y retorna uno de estos mismos valores.\n",
        "\n",
        "| operador | Descripción                               | Ejemplo         |\n",
        "|----------|:-----------------------------------------:|-----------------|\n",
        "|and       |a y b                                      |`a and b`        |\n",
        "|or        | a o b                                     |` a or b`        |\n",
        "|not       | negación de a                             | ` not a `       |\n",
        "|is        |Verdadero si los operandos son idénticos   |` x is True `    |\n",
        "|is not    |Verdadero si los operandos no son idénticos|` x is not True` |"
      ]
    },
    {
      "cell_type": "code",
      "execution_count": null,
      "metadata": {
        "id": "3drtpHTuBPYw",
        "outputId": "9c70ceb2-f453-417c-923b-bb46f1a38c76"
      },
      "outputs": [
        {
          "name": "stdout",
          "output_type": "stream",
          "text": [
            "x and y es False\n",
            "x or y es True\n",
            "not x es False\n",
            "False\n",
            "True\n"
          ]
        }
      ],
      "source": [
        "x = True\n",
        "y = False\n",
        "x1 = 5\n",
        "y1 = 5\n",
        "x2 = 'Hello'\n",
        "y2 = 'Hello'\n",
        "\n",
        "print('x and y es', x and y)\n",
        "print('x or y es', x or y)\n",
        "print('not x es', not x)\n",
        "print(x1 is not y1)\n",
        "print(x2 is y2)\n",
        "\n"
      ]
    },
    {
      "cell_type": "markdown",
      "metadata": {
        "id": "I_eORIhgBPYx"
      },
      "source": [
        "## Operadores de asignación\n",
        "Los operadores de asignación se utilizan en Python para asignar valores a las variables.\n",
        "\n",
        "`a = 5` es un operador de asignación simple que asigna el valor $5$ de la derecha a la variable `a` de la izquierda.\n",
        "\n",
        "Hay varios operadores compuestos en Python como `a += 5` que suma a la variable y luego asigna lo mismo. Es equivalente a `a = a + 5`. Es importante aclarar que debe existir de antemano la variable y tener un valor internamente para que estos operadores funcionen, de lo contrario se obtendrá el siguiente error:"
      ]
    },
    {
      "cell_type": "code",
      "execution_count": null,
      "metadata": {
        "id": "tyxffeStBPYx",
        "outputId": "b5f9a25c-b97a-4187-ccc1-c0a155f8dc75"
      },
      "outputs": [
        {
          "ename": "NameError",
          "evalue": "name 'l' is not defined",
          "output_type": "error",
          "traceback": [
            "\u001b[1;31m---------------------------------------------------------------------------\u001b[0m",
            "\u001b[1;31mNameError\u001b[0m                                 Traceback (most recent call last)",
            "\u001b[1;32m<ipython-input-10-0bf8e349eb49>\u001b[0m in \u001b[0;36m<module>\u001b[1;34m\u001b[0m\n\u001b[1;32m----> 1\u001b[1;33m \u001b[0ml\u001b[0m\u001b[1;33m+=\u001b[0m\u001b[1;36m5\u001b[0m\u001b[1;33m\u001b[0m\u001b[1;33m\u001b[0m\u001b[0m\n\u001b[0m",
            "\u001b[1;31mNameError\u001b[0m: name 'l' is not defined"
          ]
        }
      ],
      "source": [
        "l += 5"
      ]
    },
    {
      "cell_type": "markdown",
      "metadata": {
        "id": "gX2hftp0BPYz"
      },
      "source": [
        "A continuación se presenta una tabla con los principales operadores de asignación que podríamos utilizar.\n",
        "\n",
        "| Operador   | Ejemplo  | Equivalente a   |\n",
        "| ---------- | -------- | --------------- |\n",
        "| =        | `x = 5 ` | `x = 5`         |\n",
        "| +=       | `x += 5` | `x = x + 5`     |\n",
        "| -=       | `x -= 5` | `x = x - 5`     |\n",
        "| *=       | `x *= 5`| `x = x * 5`    |\n",
        "| /=       | `x /= 5` | `x = x / 5`     |\n",
        "| %=       |`x %= 5`  | `x = x % 5`     |\n",
        "| //=      |`x //= 5` | `x = x // 5`    |\n",
        "\n"
      ]
    },
    {
      "cell_type": "code",
      "execution_count": null,
      "metadata": {
        "id": "-QUZr5IMBPY0",
        "outputId": "68ce9e9a-b9ab-48ef-d495-b96885507b21"
      },
      "outputs": [
        {
          "name": "stdout",
          "output_type": "stream",
          "text": [
            "1:  123456\n",
            "2:  123789\n",
            "3:  247578\n",
            "4:  247023\n",
            "5:  49404.6\n"
          ]
        }
      ],
      "source": [
        "x = 123456\n",
        "print('1: ', x)\n",
        "x += 333\n",
        "print('2: ', x)\n",
        "x *= 2\n",
        "print('3: ', x)\n",
        "x -= 555\n",
        "print('4: ', x)\n",
        "x /= 5\n",
        "print('5: ', x)"
      ]
    }
  ],
  "metadata": {
    "kernelspec": {
      "display_name": "Python 3",
      "language": "python",
      "name": "python3"
    },
    "language_info": {
      "codemirror_mode": {
        "name": "ipython",
        "version": 3
      },
      "file_extension": ".py",
      "mimetype": "text/x-python",
      "name": "python",
      "nbconvert_exporter": "python",
      "pygments_lexer": "ipython3",
      "version": "3.8.5"
    },
    "colab": {
      "name": "Operaciones con datos.ipynb",
      "provenance": []
    }
  },
  "nbformat": 4,
  "nbformat_minor": 0
}